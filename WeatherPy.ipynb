{
 "cells": [
  {
   "cell_type": "markdown",
   "metadata": {},
   "source": [
    "# WeatherPy\n",
    "\n",
    "---\n",
    "\n",
    "## Starter Code to Generate Random Geographic Coordinates and a List of Cities"
   ]
  },
  {
   "cell_type": "code",
   "execution_count": 30,
   "metadata": {
    "scrolled": true
   },
   "outputs": [],
   "source": [
    "# Dependencies and Setup\n",
    "import matplotlib.pyplot as plt\n",
    "import pandas as pd\n",
    "import numpy as np\n",
    "import requests\n",
    "import time\n",
    "from scipy.stats import linregress\n",
    "from pprint import pprint\n",
    "from scipy import stats\n",
    "\n",
    "# Impor the OpenWeatherMap API key\n",
    "from api_keys import weather_api_key\n",
    "\n",
    "# Import citipy to determine the cities based on latitude and longitude\n",
    "from citipy import citipy"
   ]
  },
  {
   "cell_type": "markdown",
   "metadata": {},
   "source": [
    "### Generate the Cities List by Using the `citipy` Library"
   ]
  },
  {
   "cell_type": "code",
   "execution_count": 2,
   "metadata": {},
   "outputs": [
    {
     "name": "stdout",
     "output_type": "stream",
     "text": [
      "Number of cities in the list: 605\n"
     ]
    }
   ],
   "source": [
    "# Empty list for holding the latitude and longitude combinations\n",
    "lat_lngs = []\n",
    "\n",
    "# Empty list for holding the cities names\n",
    "cities = []\n",
    "\n",
    "# Range of latitudes and longitudes\n",
    "lat_range = (-90, 90)\n",
    "lng_range = (-180, 180)\n",
    "\n",
    "# Create a set of random lat and lng combinations\n",
    "lats = np.random.uniform(lat_range[0], lat_range[1], size=1500)\n",
    "lngs = np.random.uniform(lng_range[0], lng_range[1], size=1500)\n",
    "lat_lngs = zip(lats, lngs)\n",
    "\n",
    "# Identify nearest city for each lat, lng combination\n",
    "for lat_lng in lat_lngs:\n",
    "    city = citipy.nearest_city(lat_lng[0], lat_lng[1]).city_name\n",
    "    \n",
    "    # If the city is unique, then add it to a our cities list\n",
    "    if city not in cities:\n",
    "        cities.append(city)\n",
    "\n",
    "# Print the city count to confirm sufficient count\n",
    "print(f\"Number of cities in the list: {len(cities)}\")"
   ]
  },
  {
   "cell_type": "code",
   "execution_count": 3,
   "metadata": {},
   "outputs": [],
   "source": [
    "#url = \"http://api.openweathermap.org/data/2.5/weather?\"\n",
    "\n",
    "# Define an empty list to fetch the weather data for each city\n",
    "#city_data = []\n",
    "\n",
    "#units= \"metric\""
   ]
  },
  {
   "cell_type": "code",
   "execution_count": 4,
   "metadata": {},
   "outputs": [],
   "source": [
    "    # Create endpoint URL with each city\n",
    "#city_url = f\"{url}appid={weather_api_key}&q=\"\n"
   ]
  },
  {
   "cell_type": "code",
   "execution_count": 6,
   "metadata": {},
   "outputs": [],
   "source": [
    "        # Parse the JSON and retrieve data\n",
    "#city_weather = requests.get(city_url)\n",
    "#city_weather_json = city_weather.json()\n",
    "#pprint(city_weather_json)"
   ]
  },
  {
   "cell_type": "code",
   "execution_count": 8,
   "metadata": {},
   "outputs": [
    {
     "data": {
      "text/plain": [
       "{'coord': {'lon': -64.2615, 'lat': -27.7951},\n",
       " 'weather': [{'id': 804,\n",
       "   'main': 'Clouds',\n",
       "   'description': 'overcast clouds',\n",
       "   'icon': '04d'}],\n",
       " 'base': 'stations',\n",
       " 'main': {'temp': 92.16,\n",
       "  'feels_like': 90.28,\n",
       "  'temp_min': 92.16,\n",
       "  'temp_max': 92.16,\n",
       "  'pressure': 1006,\n",
       "  'humidity': 29,\n",
       "  'sea_level': 1006,\n",
       "  'grnd_level': 985},\n",
       " 'visibility': 10000,\n",
       " 'wind': {'speed': 8.72, 'deg': 22, 'gust': 8.25},\n",
       " 'clouds': {'all': 100},\n",
       " 'dt': 1675632428,\n",
       " 'sys': {'country': 'AR', 'sunrise': 1675590744, 'sunset': 1675638580},\n",
       " 'timezone': -10800,\n",
       " 'id': 3835869,\n",
       " 'name': 'Santiago del Estero',\n",
       " 'cod': 200}"
      ]
     },
     "execution_count": 8,
     "metadata": {},
     "output_type": "execute_result"
    }
   ],
   "source": [
    "city_weather = requests.get(city_url).json()\n",
    "city_weather"
   ]
  },
  {
   "cell_type": "markdown",
   "metadata": {},
   "source": [
    "---"
   ]
  },
  {
   "cell_type": "markdown",
   "metadata": {},
   "source": [
    "## Requirement 1: Create Plots to Showcase the Relationship Between Weather Variables and Latitude\n",
    "\n",
    "### Use the OpenWeatherMap API to retrieve weather data from the cities list generated in the started code"
   ]
  },
  {
   "cell_type": "code",
   "execution_count": 9,
   "metadata": {},
   "outputs": [
    {
     "name": "stdout",
     "output_type": "stream",
     "text": [
      "Beginning Data Retrieval     \n",
      "-----------------------------\n",
      "Processing Record 1 of Set 1 | upernavik\n",
      "Processing Record 2 of Set 1 | san jeronimo\n",
      "Processing Record 3 of Set 1 | rio gallegos\n",
      "Processing Record 4 of Set 1 | tumannyy\n",
      "City not found. Skipping...\n",
      "Processing Record 5 of Set 1 | klaksvik\n",
      "Processing Record 6 of Set 1 | butaritari\n",
      "Processing Record 7 of Set 1 | thompson\n",
      "Processing Record 8 of Set 1 | camacha\n",
      "Processing Record 9 of Set 1 | rikitea\n",
      "Processing Record 10 of Set 1 | sisimiut\n",
      "Processing Record 11 of Set 1 | urbana\n",
      "Processing Record 12 of Set 1 | ibra\n",
      "Processing Record 13 of Set 1 | bluff\n",
      "Processing Record 14 of Set 1 | lorengau\n",
      "Processing Record 15 of Set 1 | luderitz\n",
      "Processing Record 16 of Set 1 | vila franca do campo\n",
      "Processing Record 17 of Set 1 | cape town\n",
      "Processing Record 18 of Set 1 | punta arenas\n",
      "Processing Record 19 of Set 1 | kahului\n",
      "Processing Record 20 of Set 1 | yerbogachen\n",
      "Processing Record 21 of Set 1 | abu samrah\n",
      "Processing Record 22 of Set 1 | malim\n",
      "Processing Record 23 of Set 1 | champoton\n",
      "Processing Record 24 of Set 1 | belushya guba\n",
      "City not found. Skipping...\n",
      "Processing Record 25 of Set 1 | ballina\n",
      "Processing Record 26 of Set 1 | yellowknife\n",
      "Processing Record 27 of Set 1 | barrow\n",
      "Processing Record 28 of Set 1 | saryshagan\n",
      "City not found. Skipping...\n",
      "Processing Record 29 of Set 1 | eyrarbakki\n",
      "Processing Record 30 of Set 1 | sao filipe\n",
      "Processing Record 31 of Set 1 | manado\n",
      "Processing Record 32 of Set 1 | chicama\n",
      "Processing Record 33 of Set 1 | naze\n",
      "Processing Record 34 of Set 1 | finschhafen\n",
      "Processing Record 35 of Set 1 | port hedland\n",
      "Processing Record 36 of Set 1 | jamestown\n",
      "Processing Record 37 of Set 1 | satwas\n",
      "Processing Record 38 of Set 1 | busselton\n",
      "Processing Record 39 of Set 1 | cherskiy\n",
      "Processing Record 40 of Set 1 | kapaa\n",
      "Processing Record 41 of Set 1 | esperance\n",
      "Processing Record 42 of Set 1 | halalo\n",
      "City not found. Skipping...\n",
      "Processing Record 43 of Set 1 | taltal\n",
      "Processing Record 44 of Set 1 | victoria\n",
      "Processing Record 45 of Set 1 | tiksi\n",
      "Processing Record 46 of Set 1 | hami\n",
      "Processing Record 47 of Set 1 | sur\n",
      "Processing Record 48 of Set 1 | buin\n",
      "Processing Record 49 of Set 1 | dikson\n",
      "Processing Record 50 of Set 1 | ndola\n",
      "Processing Record 0 of Set 2 | marcona\n",
      "City not found. Skipping...\n",
      "Processing Record 1 of Set 2 | tuktoyaktuk\n",
      "Processing Record 2 of Set 2 | touros\n",
      "Processing Record 3 of Set 2 | itoman\n",
      "Processing Record 4 of Set 2 | yeletskiy\n",
      "City not found. Skipping...\n",
      "Processing Record 5 of Set 2 | airai\n",
      "Processing Record 6 of Set 2 | new norfolk\n",
      "Processing Record 7 of Set 2 | porto velho\n",
      "Processing Record 8 of Set 2 | bontang\n",
      "Processing Record 9 of Set 2 | smithers\n",
      "Processing Record 10 of Set 2 | grindavik\n",
      "Processing Record 11 of Set 2 | udachnyy\n",
      "Processing Record 12 of Set 2 | tiznit\n",
      "Processing Record 13 of Set 2 | taolanaro\n",
      "City not found. Skipping...\n",
      "Processing Record 14 of Set 2 | geraldton\n",
      "Processing Record 15 of Set 2 | pisticci\n",
      "Processing Record 16 of Set 2 | nioro\n",
      "Processing Record 17 of Set 2 | hermanus\n",
      "Processing Record 18 of Set 2 | qaanaaq\n",
      "Processing Record 19 of Set 2 | ostrovnoy\n",
      "Processing Record 20 of Set 2 | mataura\n",
      "Processing Record 21 of Set 2 | mar del plata\n",
      "Processing Record 22 of Set 2 | arraial do cabo\n",
      "Processing Record 23 of Set 2 | albany\n",
      "Processing Record 24 of Set 2 | alice\n",
      "Processing Record 25 of Set 2 | vaini\n",
      "Processing Record 26 of Set 2 | atuona\n",
      "Processing Record 27 of Set 2 | shihezi\n",
      "Processing Record 28 of Set 2 | illoqqortoormiut\n",
      "City not found. Skipping...\n",
      "Processing Record 29 of Set 2 | lata\n",
      "Processing Record 30 of Set 2 | ushuaia\n",
      "Processing Record 31 of Set 2 | santa isabel\n",
      "Processing Record 32 of Set 2 | vasylivka\n",
      "Processing Record 33 of Set 2 | portpatrick\n",
      "City not found. Skipping...\n",
      "Processing Record 34 of Set 2 | andarab\n",
      "City not found. Skipping...\n",
      "Processing Record 35 of Set 2 | pangnirtung\n",
      "Processing Record 36 of Set 2 | port alfred\n",
      "Processing Record 37 of Set 2 | havelock\n",
      "Processing Record 38 of Set 2 | ponta do sol\n",
      "Processing Record 39 of Set 2 | yulara\n",
      "Processing Record 40 of Set 2 | one hundred mile house\n",
      "City not found. Skipping...\n",
      "Processing Record 41 of Set 2 | roebourne\n",
      "Processing Record 42 of Set 2 | payson\n",
      "Processing Record 43 of Set 2 | georgetown\n",
      "Processing Record 44 of Set 2 | kamenskoye\n",
      "City not found. Skipping...\n",
      "Processing Record 45 of Set 2 | saint-joseph\n",
      "Processing Record 46 of Set 2 | bredasdorp\n",
      "Processing Record 47 of Set 2 | lebu\n",
      "Processing Record 48 of Set 2 | nikolskoye\n",
      "Processing Record 49 of Set 2 | lasa\n",
      "Processing Record 0 of Set 3 | maniitsoq\n",
      "Processing Record 1 of Set 3 | hervey bay\n",
      "Processing Record 2 of Set 3 | hamilton\n",
      "Processing Record 3 of Set 3 | avarua\n",
      "Processing Record 4 of Set 3 | tasiilaq\n",
      "Processing Record 5 of Set 3 | mazagao\n",
      "Processing Record 6 of Set 3 | college\n",
      "Processing Record 7 of Set 3 | ilulissat\n",
      "Processing Record 8 of Set 3 | fairlie\n",
      "Processing Record 9 of Set 3 | shaunavon\n",
      "Processing Record 10 of Set 3 | los llanos de aridane\n",
      "Processing Record 11 of Set 3 | chuy\n",
      "Processing Record 12 of Set 3 | kandrian\n",
      "Processing Record 13 of Set 3 | saskylakh\n",
      "Processing Record 14 of Set 3 | nagato\n",
      "Processing Record 15 of Set 3 | zeya\n",
      "Processing Record 16 of Set 3 | urucui\n",
      "Processing Record 17 of Set 3 | hilo\n",
      "Processing Record 18 of Set 3 | constitucion\n",
      "Processing Record 19 of Set 3 | ahipara\n",
      "Processing Record 20 of Set 3 | urengoy\n",
      "Processing Record 21 of Set 3 | leningradskiy\n",
      "Processing Record 22 of Set 3 | iqaluit\n",
      "Processing Record 23 of Set 3 | grand river south east\n",
      "City not found. Skipping...\n",
      "Processing Record 24 of Set 3 | formoso do araguaia\n",
      "City not found. Skipping...\n",
      "Processing Record 25 of Set 3 | mys shmidta\n",
      "City not found. Skipping...\n",
      "Processing Record 26 of Set 3 | jinka\n",
      "Processing Record 27 of Set 3 | hithadhoo\n",
      "Processing Record 28 of Set 3 | warqla\n",
      "City not found. Skipping...\n",
      "Processing Record 29 of Set 3 | constantine\n",
      "Processing Record 30 of Set 3 | honningsvag\n",
      "Processing Record 31 of Set 3 | santiago tuxtla\n",
      "Processing Record 32 of Set 3 | souillac\n",
      "Processing Record 33 of Set 3 | ribeira grande\n",
      "Processing Record 34 of Set 3 | saint-philippe\n",
      "Processing Record 35 of Set 3 | viligili\n",
      "City not found. Skipping...\n",
      "Processing Record 36 of Set 3 | dolinsk\n",
      "Processing Record 37 of Set 3 | bilma\n",
      "Processing Record 38 of Set 3 | markova\n",
      "Processing Record 39 of Set 3 | narsaq\n",
      "Processing Record 40 of Set 3 | cidreira\n",
      "Processing Record 41 of Set 3 | provideniya\n",
      "Processing Record 42 of Set 3 | kodiak\n",
      "Processing Record 43 of Set 3 | mahebourg\n",
      "Processing Record 44 of Set 3 | davila\n",
      "Processing Record 45 of Set 3 | nenjiang\n",
      "Processing Record 46 of Set 3 | angoram\n",
      "Processing Record 47 of Set 3 | norman wells\n",
      "Processing Record 48 of Set 3 | hobart\n",
      "Processing Record 49 of Set 3 | puerto ayora\n",
      "Processing Record 0 of Set 4 | bijar\n",
      "Processing Record 1 of Set 4 | kudahuvadhoo\n",
      "Processing Record 2 of Set 4 | saldanha\n",
      "Processing Record 3 of Set 4 | torbay\n",
      "Processing Record 4 of Set 4 | jaypur\n",
      "Processing Record 5 of Set 4 | sentyabrskiy\n",
      "City not found. Skipping...\n",
      "Processing Record 6 of Set 4 | litovko\n",
      "Processing Record 7 of Set 4 | garhakota\n",
      "Processing Record 8 of Set 4 | bambous virieux\n",
      "Processing Record 9 of Set 4 | tuatapere\n",
      "Processing Record 10 of Set 4 | ouargaye\n",
      "Processing Record 11 of Set 4 | vestmannaeyjar\n",
      "Processing Record 12 of Set 4 | williams lake\n",
      "Processing Record 13 of Set 4 | kununurra\n",
      "Processing Record 14 of Set 4 | san carlos de bariloche\n",
      "Processing Record 15 of Set 4 | kavaratti\n",
      "Processing Record 16 of Set 4 | khatanga\n",
      "Processing Record 17 of Set 4 | yalutorovsk\n",
      "Processing Record 18 of Set 4 | dalby\n",
      "Processing Record 19 of Set 4 | severnyy\n",
      "Processing Record 20 of Set 4 | horodyshche\n",
      "Processing Record 21 of Set 4 | bohl-iggelheim\n",
      "Processing Record 22 of Set 4 | carrickmacross\n",
      "Processing Record 23 of Set 4 | sechura\n",
      "Processing Record 24 of Set 4 | saint-augustin\n",
      "Processing Record 25 of Set 4 | bethel\n",
      "Processing Record 26 of Set 4 | changji\n",
      "Processing Record 27 of Set 4 | cap-aux-meules\n",
      "Processing Record 28 of Set 4 | broome\n",
      "Processing Record 29 of Set 4 | ariquemes\n",
      "Processing Record 30 of Set 4 | chipinge\n",
      "Processing Record 31 of Set 4 | reforma\n",
      "Processing Record 32 of Set 4 | sitka\n",
      "Processing Record 33 of Set 4 | ksenyevka\n",
      "City not found. Skipping...\n",
      "Processing Record 34 of Set 4 | fort saint john\n"
     ]
    },
    {
     "name": "stdout",
     "output_type": "stream",
     "text": [
      "City not found. Skipping...\n",
      "Processing Record 35 of Set 4 | erenhot\n",
      "Processing Record 36 of Set 4 | awjilah\n",
      "Processing Record 37 of Set 4 | san rafael\n",
      "Processing Record 38 of Set 4 | eureka\n",
      "Processing Record 39 of Set 4 | severo-kurilsk\n",
      "Processing Record 40 of Set 4 | ukiah\n",
      "Processing Record 41 of Set 4 | longyearbyen\n",
      "Processing Record 42 of Set 4 | malwan\n",
      "City not found. Skipping...\n",
      "Processing Record 43 of Set 4 | vostok\n",
      "Processing Record 44 of Set 4 | kawalu\n",
      "Processing Record 45 of Set 4 | puerto narino\n",
      "Processing Record 46 of Set 4 | port blair\n",
      "Processing Record 47 of Set 4 | conde\n",
      "Processing Record 48 of Set 4 | amderma\n",
      "City not found. Skipping...\n",
      "Processing Record 49 of Set 4 | tanete\n",
      "Processing Record 0 of Set 5 | mokhsogollokh\n",
      "Processing Record 1 of Set 5 | soyo\n",
      "Processing Record 2 of Set 5 | vaitupu\n",
      "City not found. Skipping...\n",
      "Processing Record 3 of Set 5 | mapastepec\n",
      "Processing Record 4 of Set 5 | alice springs\n",
      "Processing Record 5 of Set 5 | hobyo\n",
      "Processing Record 6 of Set 5 | makakilo city\n",
      "Processing Record 7 of Set 5 | hasaki\n",
      "Processing Record 8 of Set 5 | mayo\n",
      "Processing Record 9 of Set 5 | east london\n",
      "Processing Record 10 of Set 5 | arlit\n",
      "Processing Record 11 of Set 5 | rawson\n",
      "Processing Record 12 of Set 5 | port keats\n",
      "Processing Record 13 of Set 5 | namibe\n",
      "Processing Record 14 of Set 5 | sakakah\n",
      "Processing Record 15 of Set 5 | alofi\n",
      "Processing Record 16 of Set 5 | carnarvon\n",
      "Processing Record 17 of Set 5 | auki\n",
      "Processing Record 18 of Set 5 | hualmay\n",
      "Processing Record 19 of Set 5 | kemlya\n",
      "Processing Record 20 of Set 5 | olafsvik\n",
      "Processing Record 21 of Set 5 | atasu\n",
      "Processing Record 22 of Set 5 | nouadhibou\n",
      "Processing Record 23 of Set 5 | qeshm\n",
      "Processing Record 24 of Set 5 | mareeba\n",
      "Processing Record 25 of Set 5 | hammerfest\n",
      "Processing Record 26 of Set 5 | flinders\n",
      "Processing Record 27 of Set 5 | salinopolis\n",
      "Processing Record 28 of Set 5 | palabuhanratu\n",
      "City not found. Skipping...\n",
      "Processing Record 29 of Set 5 | kaitangata\n",
      "Processing Record 30 of Set 5 | batagay-alyta\n",
      "Processing Record 31 of Set 5 | kachikau\n",
      "City not found. Skipping...\n",
      "Processing Record 32 of Set 5 | vila\n",
      "Processing Record 33 of Set 5 | tsihombe\n",
      "City not found. Skipping...\n",
      "Processing Record 34 of Set 5 | fenoarivo\n",
      "Processing Record 35 of Set 5 | marzuq\n",
      "Processing Record 36 of Set 5 | lolua\n",
      "City not found. Skipping...\n",
      "Processing Record 37 of Set 5 | envira\n",
      "Processing Record 38 of Set 5 | mnogovershinnyy\n",
      "Processing Record 39 of Set 5 | bilibino\n",
      "Processing Record 40 of Set 5 | faanui\n",
      "Processing Record 41 of Set 5 | gidam\n",
      "Processing Record 42 of Set 5 | pascagoula\n",
      "Processing Record 43 of Set 5 | lamar\n",
      "Processing Record 44 of Set 5 | stoyba\n",
      "City not found. Skipping...\n",
      "Processing Record 45 of Set 5 | charters towers\n",
      "Processing Record 46 of Set 5 | port hardy\n",
      "Processing Record 47 of Set 5 | kidal\n",
      "Processing Record 48 of Set 5 | pimentel\n",
      "Processing Record 49 of Set 5 | governador valadares\n",
      "Processing Record 0 of Set 6 | guekedou\n",
      "City not found. Skipping...\n",
      "Processing Record 1 of Set 6 | attawapiskat\n",
      "City not found. Skipping...\n",
      "Processing Record 2 of Set 6 | turukhansk\n",
      "Processing Record 3 of Set 6 | half moon bay\n",
      "Processing Record 4 of Set 6 | camrose\n",
      "Processing Record 5 of Set 6 | guerrero negro\n",
      "Processing Record 6 of Set 6 | okandja\n",
      "City not found. Skipping...\n",
      "Processing Record 7 of Set 6 | jacareacanga\n",
      "Processing Record 8 of Set 6 | husavik\n",
      "Processing Record 9 of Set 6 | bhag\n",
      "Processing Record 10 of Set 6 | clyde river\n",
      "Processing Record 11 of Set 6 | kusye-aleksandrovskiy\n",
      "City not found. Skipping...\n",
      "Processing Record 12 of Set 6 | stonewall\n",
      "Processing Record 13 of Set 6 | kaili\n",
      "Processing Record 14 of Set 6 | castro\n",
      "Processing Record 15 of Set 6 | quelimane\n",
      "Processing Record 16 of Set 6 | tilichiki\n",
      "Processing Record 17 of Set 6 | coquimbo\n",
      "Processing Record 18 of Set 6 | biloela\n",
      "Processing Record 19 of Set 6 | sayville\n",
      "Processing Record 20 of Set 6 | te anau\n",
      "Processing Record 21 of Set 6 | houma\n",
      "Processing Record 22 of Set 6 | rockport\n",
      "Processing Record 23 of Set 6 | ancud\n",
      "Processing Record 24 of Set 6 | wulanhaote\n",
      "City not found. Skipping...\n",
      "Processing Record 25 of Set 6 | port elizabeth\n",
      "Processing Record 26 of Set 6 | bela palanka\n",
      "Processing Record 27 of Set 6 | vallenar\n",
      "Processing Record 28 of Set 6 | tabiauea\n",
      "City not found. Skipping...\n",
      "Processing Record 29 of Set 6 | yeovil\n",
      "Processing Record 30 of Set 6 | walvis bay\n",
      "Processing Record 31 of Set 6 | santana\n",
      "Processing Record 32 of Set 6 | yumen\n",
      "Processing Record 33 of Set 6 | dudinka\n",
      "Processing Record 34 of Set 6 | qandala\n",
      "Processing Record 35 of Set 6 | akyab\n",
      "Processing Record 36 of Set 6 | ugoofaaru\n",
      "Processing Record 37 of Set 6 | escanaba\n",
      "Processing Record 38 of Set 6 | chadiza\n",
      "Processing Record 39 of Set 6 | sillod\n",
      "Processing Record 40 of Set 6 | manzhouli\n",
      "Processing Record 41 of Set 6 | westport\n",
      "Processing Record 42 of Set 6 | kloulklubed\n",
      "Processing Record 43 of Set 6 | muravlenko\n",
      "Processing Record 44 of Set 6 | vardo\n",
      "Processing Record 45 of Set 6 | fortuna\n",
      "Processing Record 46 of Set 6 | asau\n",
      "Processing Record 47 of Set 6 | pevek\n",
      "Processing Record 48 of Set 6 | laguna\n",
      "Processing Record 49 of Set 6 | huarmey\n",
      "Processing Record 0 of Set 7 | chokurdakh\n",
      "Processing Record 1 of Set 7 | acapulco\n",
      "Processing Record 2 of Set 7 | mabaruma\n",
      "Processing Record 3 of Set 7 | lokosovo\n",
      "Processing Record 4 of Set 7 | toora-khem\n",
      "Processing Record 5 of Set 7 | energetik\n",
      "Processing Record 6 of Set 7 | verkhnevilyuysk\n",
      "Processing Record 7 of Set 7 | henties bay\n",
      "Processing Record 8 of Set 7 | barentsburg\n",
      "City not found. Skipping...\n",
      "Processing Record 9 of Set 7 | meulaboh\n",
      "Processing Record 10 of Set 7 | tagusao\n",
      "Processing Record 11 of Set 7 | candido mendes\n",
      "Processing Record 12 of Set 7 | kajaani\n",
      "Processing Record 13 of Set 7 | katsuura\n",
      "Processing Record 14 of Set 7 | aflu\n",
      "City not found. Skipping...\n",
      "Processing Record 15 of Set 7 | saint george\n",
      "Processing Record 16 of Set 7 | cabo san lucas\n",
      "Processing Record 17 of Set 7 | shirgaon\n",
      "Processing Record 18 of Set 7 | pauini\n",
      "Processing Record 19 of Set 7 | balabac\n",
      "Processing Record 20 of Set 7 | tura\n",
      "Processing Record 21 of Set 7 | tsiroanomandidy\n",
      "Processing Record 22 of Set 7 | athabasca\n",
      "Processing Record 23 of Set 7 | byron bay\n",
      "Processing Record 24 of Set 7 | moron\n",
      "Processing Record 25 of Set 7 | talgar\n",
      "Processing Record 26 of Set 7 | matagami\n",
      "Processing Record 27 of Set 7 | neka\n",
      "Processing Record 28 of Set 7 | kjollefjord\n",
      "Processing Record 29 of Set 7 | lagoa\n",
      "Processing Record 30 of Set 7 | harper\n",
      "Processing Record 31 of Set 7 | taoudenni\n",
      "Processing Record 32 of Set 7 | muisne\n",
      "Processing Record 33 of Set 7 | mandalgovi\n",
      "Processing Record 34 of Set 7 | augusta\n",
      "Processing Record 35 of Set 7 | utiroa\n",
      "City not found. Skipping...\n",
      "Processing Record 36 of Set 7 | delmas\n",
      "Processing Record 37 of Set 7 | nemuro\n",
      "Processing Record 38 of Set 7 | yongan\n",
      "Processing Record 39 of Set 7 | inirida\n",
      "Processing Record 40 of Set 7 | kavieng\n",
      "Processing Record 41 of Set 7 | sibolga\n",
      "Processing Record 42 of Set 7 | sabha\n",
      "Processing Record 43 of Set 7 | mergui\n",
      "City not found. Skipping...\n",
      "Processing Record 44 of Set 7 | longhua\n",
      "Processing Record 45 of Set 7 | lazaro cardenas\n",
      "Processing Record 46 of Set 7 | moussoro\n",
      "Processing Record 47 of Set 7 | bowen\n",
      "Processing Record 48 of Set 7 | kingaroy\n",
      "Processing Record 49 of Set 7 | sao jose da coroa grande\n",
      "Processing Record 0 of Set 8 | bur gabo\n",
      "City not found. Skipping...\n",
      "Processing Record 1 of Set 8 | meyungs\n",
      "City not found. Skipping...\n",
      "Processing Record 2 of Set 8 | nanortalik\n",
      "Processing Record 3 of Set 8 | valparaiso\n",
      "Processing Record 4 of Set 8 | pemberton\n",
      "Processing Record 5 of Set 8 | coari\n",
      "Processing Record 6 of Set 8 | tarko-sale\n",
      "Processing Record 7 of Set 8 | caucaia\n",
      "Processing Record 8 of Set 8 | tarpon springs\n",
      "Processing Record 9 of Set 8 | arles\n",
      "Processing Record 10 of Set 8 | barahona\n",
      "Processing Record 11 of Set 8 | ixtapa\n",
      "Processing Record 12 of Set 8 | coihaique\n",
      "Processing Record 13 of Set 8 | carbonia\n",
      "Processing Record 14 of Set 8 | joshimath\n",
      "Processing Record 15 of Set 8 | andenes\n",
      "Processing Record 16 of Set 8 | la grande\n",
      "Processing Record 17 of Set 8 | rafaela\n",
      "Processing Record 18 of Set 8 | port pirie\n",
      "Processing Record 19 of Set 8 | kholm\n",
      "Processing Record 20 of Set 8 | kamenka\n"
     ]
    },
    {
     "name": "stdout",
     "output_type": "stream",
     "text": [
      "Processing Record 21 of Set 8 | camacupa\n",
      "Processing Record 22 of Set 8 | afmadu\n",
      "City not found. Skipping...\n",
      "Processing Record 23 of Set 8 | hedaru\n",
      "Processing Record 24 of Set 8 | dhidhdhoo\n",
      "Processing Record 25 of Set 8 | dingle\n",
      "Processing Record 26 of Set 8 | beyneu\n",
      "Processing Record 27 of Set 8 | verkh-suetka\n",
      "Processing Record 28 of Set 8 | acarau\n",
      "Processing Record 29 of Set 8 | baruun-urt\n",
      "Processing Record 30 of Set 8 | kuryk\n",
      "Processing Record 31 of Set 8 | vila velha\n",
      "Processing Record 32 of Set 8 | yanan\n",
      "City not found. Skipping...\n",
      "Processing Record 33 of Set 8 | lixourion\n",
      "Processing Record 34 of Set 8 | bogovina\n",
      "Processing Record 35 of Set 8 | morshyn\n",
      "Processing Record 36 of Set 8 | orange cove\n",
      "Processing Record 37 of Set 8 | pampa\n",
      "Processing Record 38 of Set 8 | bandarbeyla\n",
      "Processing Record 39 of Set 8 | nizhniy ingash\n",
      "Processing Record 40 of Set 8 | chama\n",
      "Processing Record 41 of Set 8 | razole\n",
      "Processing Record 42 of Set 8 | quatre cocos\n",
      "Processing Record 43 of Set 8 | whitehorse\n",
      "Processing Record 44 of Set 8 | coria\n",
      "Processing Record 45 of Set 8 | inta\n",
      "Processing Record 46 of Set 8 | dorolt\n",
      "Processing Record 47 of Set 8 | lae\n",
      "Processing Record 48 of Set 8 | kruisfontein\n",
      "Processing Record 49 of Set 8 | moerai\n",
      "Processing Record 0 of Set 9 | saleaula\n",
      "City not found. Skipping...\n",
      "Processing Record 1 of Set 9 | deputatskiy\n",
      "Processing Record 2 of Set 9 | paita\n",
      "Processing Record 3 of Set 9 | taksimo\n",
      "Processing Record 4 of Set 9 | machinga\n",
      "Processing Record 5 of Set 9 | saint-leu\n",
      "Processing Record 6 of Set 9 | anadyr\n",
      "Processing Record 7 of Set 9 | faya\n",
      "Processing Record 8 of Set 9 | mayna\n",
      "Processing Record 9 of Set 9 | beloha\n",
      "Processing Record 10 of Set 9 | yangcun\n",
      "Processing Record 11 of Set 9 | aklavik\n",
      "Processing Record 12 of Set 9 | miri\n",
      "Processing Record 13 of Set 9 | nara\n",
      "Processing Record 14 of Set 9 | peterhead\n",
      "Processing Record 15 of Set 9 | santiago de cao\n",
      "Processing Record 16 of Set 9 | machico\n",
      "Processing Record 17 of Set 9 | mouila\n",
      "Processing Record 18 of Set 9 | novyy urengoy\n",
      "Processing Record 19 of Set 9 | san patricio\n",
      "Processing Record 20 of Set 9 | moiyabana\n",
      "City not found. Skipping...\n",
      "Processing Record 21 of Set 9 | rajgurunagar\n",
      "Processing Record 22 of Set 9 | otane\n",
      "Processing Record 23 of Set 9 | shakawe\n",
      "Processing Record 24 of Set 9 | sancti spiritus\n",
      "Processing Record 25 of Set 9 | hihifo\n",
      "City not found. Skipping...\n",
      "Processing Record 26 of Set 9 | abha\n",
      "Processing Record 27 of Set 9 | asosa\n",
      "Processing Record 28 of Set 9 | kapit\n",
      "Processing Record 29 of Set 9 | sapernoye\n",
      "Processing Record 30 of Set 9 | havoysund\n",
      "Processing Record 31 of Set 9 | uige\n",
      "Processing Record 32 of Set 9 | kaimur\n",
      "City not found. Skipping...\n",
      "Processing Record 33 of Set 9 | placido de castro\n",
      "Processing Record 34 of Set 9 | esmeraldas\n",
      "Processing Record 35 of Set 9 | lavrentiya\n",
      "Processing Record 36 of Set 9 | yirol\n",
      "City not found. Skipping...\n",
      "Processing Record 37 of Set 9 | wanning\n",
      "Processing Record 38 of Set 9 | nova odesa\n",
      "Processing Record 39 of Set 9 | isangel\n",
      "Processing Record 40 of Set 9 | waingapu\n",
      "Processing Record 41 of Set 9 | suhbaatar\n",
      "Processing Record 42 of Set 9 | buraydah\n",
      "Processing Record 43 of Set 9 | mayya\n",
      "Processing Record 44 of Set 9 | barela\n",
      "Processing Record 45 of Set 9 | saint andrews\n",
      "Processing Record 46 of Set 9 | kyren\n",
      "Processing Record 47 of Set 9 | outjo\n",
      "Processing Record 48 of Set 9 | bollnas\n",
      "Processing Record 49 of Set 9 | mount gambier\n",
      "Processing Record 0 of Set 10 | shubarkuduk\n",
      "Processing Record 1 of Set 10 | campbell river\n",
      "Processing Record 2 of Set 10 | ulladulla\n",
      "Processing Record 3 of Set 10 | jalu\n",
      "Processing Record 4 of Set 10 | eston\n",
      "Processing Record 5 of Set 10 | erice\n",
      "Processing Record 6 of Set 10 | naushki\n",
      "Processing Record 7 of Set 10 | moji das cruzes\n",
      "City not found. Skipping...\n",
      "Processing Record 8 of Set 10 | batsfjord\n",
      "Processing Record 9 of Set 10 | pleasanton\n",
      "Processing Record 10 of Set 10 | camp verde\n",
      "Processing Record 11 of Set 10 | lulea\n",
      "Processing Record 12 of Set 10 | mae sai\n",
      "Processing Record 13 of Set 10 | opuwo\n",
      "Processing Record 14 of Set 10 | lompoc\n",
      "Processing Record 15 of Set 10 | puerto escondido\n",
      "Processing Record 16 of Set 10 | gurskoye\n",
      "City not found. Skipping...\n",
      "Processing Record 17 of Set 10 | ponta delgada\n",
      "Processing Record 18 of Set 10 | salalah\n",
      "Processing Record 19 of Set 10 | mandurah\n",
      "Processing Record 20 of Set 10 | bengkulu\n",
      "Processing Record 21 of Set 10 | qasigiannguit\n",
      "Processing Record 22 of Set 10 | cabedelo\n",
      "Processing Record 23 of Set 10 | blumenau\n",
      "Processing Record 24 of Set 10 | kindu\n",
      "Processing Record 25 of Set 10 | maceio\n",
      "Processing Record 26 of Set 10 | samoded\n",
      "Processing Record 27 of Set 10 | tual\n",
      "Processing Record 28 of Set 10 | karaul\n",
      "City not found. Skipping...\n",
      "Processing Record 29 of Set 10 | umm durman\n",
      "City not found. Skipping...\n",
      "Processing Record 30 of Set 10 | yining\n",
      "Processing Record 31 of Set 10 | portland\n",
      "Processing Record 32 of Set 10 | samusu\n",
      "City not found. Skipping...\n",
      "Processing Record 33 of Set 10 | aguimes\n",
      "Processing Record 34 of Set 10 | sambava\n",
      "Processing Record 35 of Set 10 | berlevag\n",
      "Processing Record 36 of Set 10 | keti bandar\n",
      "Processing Record 37 of Set 10 | nizhniy baskunchak\n",
      "Processing Record 38 of Set 10 | norsup\n",
      "Processing Record 39 of Set 10 | pacific grove\n",
      "Processing Record 40 of Set 10 | porto novo\n",
      "Processing Record 41 of Set 10 | wilkie\n",
      "Processing Record 42 of Set 10 | mecca\n",
      "Processing Record 43 of Set 10 | beringovskiy\n",
      "Processing Record 44 of Set 10 | jertih\n",
      "Processing Record 45 of Set 10 | kamariotissa\n",
      "Processing Record 46 of Set 10 | crab hill\n",
      "City not found. Skipping...\n",
      "Processing Record 47 of Set 10 | nizhneyansk\n",
      "City not found. Skipping...\n",
      "Processing Record 48 of Set 10 | oranjemund\n",
      "Processing Record 49 of Set 10 | oxford\n",
      "Processing Record 0 of Set 11 | dixon\n",
      "Processing Record 1 of Set 11 | xichang\n",
      "Processing Record 2 of Set 11 | mae hong son\n",
      "Processing Record 3 of Set 11 | ayan\n",
      "Processing Record 4 of Set 11 | tanza\n",
      "Processing Record 5 of Set 11 | dali\n",
      "Processing Record 6 of Set 11 | kieta\n",
      "Processing Record 7 of Set 11 | makubetsu\n",
      "Processing Record 8 of Set 11 | poquoson\n",
      "Processing Record 9 of Set 11 | storforshei\n",
      "Processing Record 10 of Set 11 | grand centre\n",
      "City not found. Skipping...\n",
      "Processing Record 11 of Set 11 | tidore\n",
      "City not found. Skipping...\n",
      "Processing Record 12 of Set 11 | rio grande\n",
      "Processing Record 13 of Set 11 | healdsburg\n",
      "Processing Record 14 of Set 11 | leh\n",
      "Processing Record 15 of Set 11 | haibowan\n",
      "City not found. Skipping...\n",
      "Processing Record 16 of Set 11 | campina verde\n",
      "Processing Record 17 of Set 11 | khonuu\n",
      "City not found. Skipping...\n",
      "Processing Record 18 of Set 11 | fairbanks\n",
      "Processing Record 19 of Set 11 | kipushi\n",
      "Processing Record 20 of Set 11 | kaeo\n",
      "Processing Record 21 of Set 11 | marawi\n",
      "Processing Record 22 of Set 11 | svetlogorsk\n",
      "Processing Record 23 of Set 11 | chabahar\n",
      "Processing Record 24 of Set 11 | sumenep\n",
      "Processing Record 25 of Set 11 | medvezhyegorsk\n",
      "Processing Record 26 of Set 11 | bom jesus\n",
      "Processing Record 27 of Set 11 | shingu\n",
      "Processing Record 28 of Set 11 | talnakh\n",
      "Processing Record 29 of Set 11 | along\n",
      "Processing Record 30 of Set 11 | christchurch\n",
      "Processing Record 31 of Set 11 | poronaysk\n",
      "Processing Record 32 of Set 11 | fatezh\n",
      "Processing Record 33 of Set 11 | turkmenabat\n",
      "Processing Record 34 of Set 11 | brookings\n",
      "Processing Record 35 of Set 11 | russell\n",
      "Processing Record 36 of Set 11 | antofagasta\n",
      "Processing Record 37 of Set 11 | sakaiminato\n",
      "Processing Record 38 of Set 11 | emba\n",
      "Processing Record 39 of Set 11 | bairiki\n",
      "Processing Record 40 of Set 11 | alugan\n",
      "Processing Record 41 of Set 11 | bababe\n",
      "City not found. Skipping...\n",
      "Processing Record 42 of Set 11 | mogadishu\n",
      "Processing Record 43 of Set 11 | batemans bay\n",
      "Processing Record 44 of Set 11 | sarangani\n",
      "Processing Record 45 of Set 11 | falam\n",
      "Processing Record 46 of Set 11 | katobu\n",
      "Processing Record 47 of Set 11 | tawang\n",
      "Processing Record 48 of Set 11 | freeport\n",
      "Processing Record 49 of Set 11 | omsukchan\n",
      "Processing Record 0 of Set 12 | sao gabriel da cachoeira\n",
      "Processing Record 1 of Set 12 | gull lake\n",
      "Processing Record 2 of Set 12 | punta alta\n",
      "Processing Record 3 of Set 12 | barao de melgaco\n",
      "Processing Record 4 of Set 12 | bathsheba\n",
      "Processing Record 5 of Set 12 | camana\n"
     ]
    },
    {
     "name": "stdout",
     "output_type": "stream",
     "text": [
      "Processing Record 6 of Set 12 | sabang\n",
      "Processing Record 7 of Set 12 | eyl\n",
      "Processing Record 8 of Set 12 | luoyang\n",
      "Processing Record 9 of Set 12 | bondoukou\n",
      "Processing Record 10 of Set 12 | faridan\n",
      "City not found. Skipping...\n",
      "Processing Record 11 of Set 12 | pidhaytsi\n",
      "Processing Record 12 of Set 12 | olinda\n",
      "Processing Record 13 of Set 12 | ocala\n",
      "Processing Record 14 of Set 12 | padang\n",
      "Processing Record 15 of Set 12 | garhi khairo\n",
      "Processing Record 16 of Set 12 | san andres\n",
      "Processing Record 17 of Set 12 | tibati\n",
      "Processing Record 18 of Set 12 | sal rei\n",
      "Processing Record 19 of Set 12 | crvenka\n",
      "Processing Record 20 of Set 12 | poum\n",
      "Processing Record 21 of Set 12 | the pas\n",
      "Processing Record 22 of Set 12 | tuggurt\n",
      "City not found. Skipping...\n",
      "Processing Record 23 of Set 12 | la virtud\n",
      "Processing Record 24 of Set 12 | ambanja\n",
      "Processing Record 25 of Set 12 | dolores hidalgo\n",
      "Processing Record 26 of Set 12 | zyryanka\n",
      "Processing Record 27 of Set 12 | salym\n",
      "Processing Record 28 of Set 12 | aban\n",
      "Processing Record 29 of Set 12 | tooele\n",
      "Processing Record 30 of Set 12 | amazar\n",
      "Processing Record 31 of Set 12 | palmer\n",
      "Processing Record 32 of Set 12 | point fortin\n",
      "Processing Record 33 of Set 12 | turayf\n",
      "Processing Record 34 of Set 12 | bulgan\n",
      "Processing Record 35 of Set 12 | susanville\n",
      "Processing Record 36 of Set 12 | san cristobal\n",
      "Processing Record 37 of Set 12 | quixada\n",
      "Processing Record 38 of Set 12 | uvalde\n",
      "Processing Record 39 of Set 12 | gunupur\n",
      "Processing Record 40 of Set 12 | margate\n",
      "Processing Record 41 of Set 12 | labuhan\n",
      "Processing Record 42 of Set 12 | luganville\n",
      "Processing Record 43 of Set 12 | maragogi\n",
      "Processing Record 44 of Set 12 | sinazongwe\n",
      "Processing Record 45 of Set 12 | ucluelet\n",
      "Processing Record 46 of Set 12 | nagorsk\n",
      "Processing Record 47 of Set 12 | shitanjing\n",
      "Processing Record 48 of Set 12 | porto santo\n",
      "Processing Record 49 of Set 12 | filadelfia\n",
      "Processing Record 0 of Set 13 | rio cuarto\n",
      "Processing Record 1 of Set 13 | juneau\n",
      "Processing Record 2 of Set 13 | karratha\n",
      "Processing Record 3 of Set 13 | riyadh\n",
      "Processing Record 4 of Set 13 | santiago del estero\n",
      "-----------------------------\n",
      "Data Retrieval Complete      \n",
      "-----------------------------\n"
     ]
    }
   ],
   "source": [
    "# Set the API base URL\n",
    "#url = \"http://api.openweathermap.org/data/2.5/weather?\"\n",
    "url = \"http://api.openweathermap.org/data/2.5/weather?units=Imperial&APPID=\" + weather_api_key\n",
    "\n",
    "# Define an empty list to fetch the weather data for each city\n",
    "city_data = []\n",
    "\n",
    "# Print to logger\n",
    "print(\"Beginning Data Retrieval     \")\n",
    "print(\"-----------------------------\")\n",
    "\n",
    "# Create counters\n",
    "record_count = 1\n",
    "set_count = 1\n",
    "\n",
    "# Loop through all the cities in our list to fetch weather data\n",
    "for i, city in enumerate(cities):\n",
    "        \n",
    "    # Group cities in sets of 50 for logging purposes\n",
    "    if (i % 50 == 0 and i >= 50):\n",
    "        set_count += 1\n",
    "        record_count = 0\n",
    "\n",
    "    # Create endpoint URL with each city\n",
    "    city_url = url + \"&q=\" + city.replace(\" \",\"+\")\n",
    "    #f\"{url}appid={weather_api_key}&q=\"\n",
    "    #url + \"&q=\" + city.replace(\" \",\"+\")\n",
    "    \n",
    "    # Log the url, record, and set numbers\n",
    "    print(\"Processing Record %s of Set %s | %s\" % (record_count, set_count, city))\n",
    "\n",
    "    # Add 1 to the record count\n",
    "    record_count += 1\n",
    "\n",
    "    \n",
    "\n",
    "    # Run an API request for each of the cities\n",
    "    try:\n",
    "        # Parse the JSON and retrieve data\n",
    "\n",
    "        city_weather = requests.get(city_url).json()\n",
    "        \n",
    "        \n",
    "\n",
    "                # Parse out latitude, longitude, max temp, humidity, cloudiness, wind speed, country, and date\n",
    "        \n",
    "        city_lat = city_weather[\"coord\"][\"lat\"]\n",
    "        city_lng = city_weather[\"coord\"][\"lon\"]\n",
    "        city_country = city_weather[\"sys\"][\"country\"]\n",
    "        city_max_temp = city_weather[\"main\"][\"temp_max\"]\n",
    "        city_humidity = city_weather[\"main\"][\"humidity\"]\n",
    "        city_clouds = city_weather[\"clouds\"][\"all\"]\n",
    "        city_wind = city_weather[\"wind\"][\"speed\"]\n",
    "        city_date = city_weather['dt']\n",
    "        # Append the City information into city_data list\n",
    "        city_data.append({\"City\": city.title(), \n",
    "                          \"Lat\": city_lat, \n",
    "                          \"Lng\": city_lng, \n",
    "                          \"Max Temp\": city_max_temp,\n",
    "                          \"Humidity\": city_humidity,\n",
    "                          \"Cloudiness\": city_clouds,\n",
    "                          \"Wind Speed\": city_wind,\n",
    "                          \"Country\": city_country,\n",
    "                          \"Date\":city_date})\n",
    "\n",
    "    # If an error is experienced, skip the city\n",
    "    except:\n",
    "        print(\"City not found. Skipping...\")\n",
    "        pass\n",
    "              \n",
    "# Indicate that Data Loading is complete \n",
    "print(\"-----------------------------\")\n",
    "print(\"Data Retrieval Complete      \")\n",
    "print(\"-----------------------------\")"
   ]
  },
  {
   "cell_type": "code",
   "execution_count": 10,
   "metadata": {},
   "outputs": [
    {
     "data": {
      "text/plain": [
       "City          544\n",
       "Lat           544\n",
       "Lng           544\n",
       "Max Temp      544\n",
       "Humidity      544\n",
       "Cloudiness    544\n",
       "Wind Speed    544\n",
       "Country       544\n",
       "Date          544\n",
       "dtype: int64"
      ]
     },
     "execution_count": 10,
     "metadata": {},
     "output_type": "execute_result"
    }
   ],
   "source": [
    "# Convert the cities weather data into a Pandas DataFrame\n",
    "city_data_df = pd.DataFrame(city_data)\n",
    "\n",
    "# Show Record Count\n",
    "city_data_df.count()"
   ]
  },
  {
   "cell_type": "code",
   "execution_count": 11,
   "metadata": {},
   "outputs": [
    {
     "data": {
      "text/html": [
       "<div>\n",
       "<style scoped>\n",
       "    .dataframe tbody tr th:only-of-type {\n",
       "        vertical-align: middle;\n",
       "    }\n",
       "\n",
       "    .dataframe tbody tr th {\n",
       "        vertical-align: top;\n",
       "    }\n",
       "\n",
       "    .dataframe thead th {\n",
       "        text-align: right;\n",
       "    }\n",
       "</style>\n",
       "<table border=\"1\" class=\"dataframe\">\n",
       "  <thead>\n",
       "    <tr style=\"text-align: right;\">\n",
       "      <th></th>\n",
       "      <th>City</th>\n",
       "      <th>Lat</th>\n",
       "      <th>Lng</th>\n",
       "      <th>Max Temp</th>\n",
       "      <th>Humidity</th>\n",
       "      <th>Cloudiness</th>\n",
       "      <th>Wind Speed</th>\n",
       "      <th>Country</th>\n",
       "      <th>Date</th>\n",
       "    </tr>\n",
       "  </thead>\n",
       "  <tbody>\n",
       "    <tr>\n",
       "      <th>0</th>\n",
       "      <td>Upernavik</td>\n",
       "      <td>72.7868</td>\n",
       "      <td>-56.1549</td>\n",
       "      <td>-11.40</td>\n",
       "      <td>93</td>\n",
       "      <td>100</td>\n",
       "      <td>6.13</td>\n",
       "      <td>GL</td>\n",
       "      <td>1675632507</td>\n",
       "    </tr>\n",
       "    <tr>\n",
       "      <th>1</th>\n",
       "      <td>San Jeronimo</td>\n",
       "      <td>-11.9472</td>\n",
       "      <td>-75.2829</td>\n",
       "      <td>58.44</td>\n",
       "      <td>63</td>\n",
       "      <td>81</td>\n",
       "      <td>7.36</td>\n",
       "      <td>PE</td>\n",
       "      <td>1675632789</td>\n",
       "    </tr>\n",
       "    <tr>\n",
       "      <th>2</th>\n",
       "      <td>Rio Gallegos</td>\n",
       "      <td>-51.6226</td>\n",
       "      <td>-69.2181</td>\n",
       "      <td>62.65</td>\n",
       "      <td>31</td>\n",
       "      <td>75</td>\n",
       "      <td>32.21</td>\n",
       "      <td>AR</td>\n",
       "      <td>1675632726</td>\n",
       "    </tr>\n",
       "    <tr>\n",
       "      <th>3</th>\n",
       "      <td>Klaksvik</td>\n",
       "      <td>62.2266</td>\n",
       "      <td>-6.5890</td>\n",
       "      <td>47.32</td>\n",
       "      <td>92</td>\n",
       "      <td>100</td>\n",
       "      <td>35.03</td>\n",
       "      <td>FO</td>\n",
       "      <td>1675632790</td>\n",
       "    </tr>\n",
       "    <tr>\n",
       "      <th>4</th>\n",
       "      <td>Butaritari</td>\n",
       "      <td>3.0707</td>\n",
       "      <td>172.7902</td>\n",
       "      <td>80.24</td>\n",
       "      <td>83</td>\n",
       "      <td>100</td>\n",
       "      <td>19.15</td>\n",
       "      <td>KI</td>\n",
       "      <td>1675632524</td>\n",
       "    </tr>\n",
       "  </tbody>\n",
       "</table>\n",
       "</div>"
      ],
      "text/plain": [
       "           City      Lat       Lng  Max Temp  Humidity  Cloudiness  \\\n",
       "0     Upernavik  72.7868  -56.1549    -11.40        93         100   \n",
       "1  San Jeronimo -11.9472  -75.2829     58.44        63          81   \n",
       "2  Rio Gallegos -51.6226  -69.2181     62.65        31          75   \n",
       "3      Klaksvik  62.2266   -6.5890     47.32        92         100   \n",
       "4    Butaritari   3.0707  172.7902     80.24        83         100   \n",
       "\n",
       "   Wind Speed Country        Date  \n",
       "0        6.13      GL  1675632507  \n",
       "1        7.36      PE  1675632789  \n",
       "2       32.21      AR  1675632726  \n",
       "3       35.03      FO  1675632790  \n",
       "4       19.15      KI  1675632524  "
      ]
     },
     "execution_count": 11,
     "metadata": {},
     "output_type": "execute_result"
    }
   ],
   "source": [
    "# Display sample data\n",
    "city_data_df.head()"
   ]
  },
  {
   "cell_type": "code",
   "execution_count": 14,
   "metadata": {},
   "outputs": [],
   "source": [
    "# Export the City_Data into a csv\n",
    "city_data_df.to_csv(\"output_data/cities.csv\", index_label=\"City_ID\")"
   ]
  },
  {
   "cell_type": "code",
   "execution_count": 15,
   "metadata": {},
   "outputs": [
    {
     "data": {
      "text/html": [
       "<div>\n",
       "<style scoped>\n",
       "    .dataframe tbody tr th:only-of-type {\n",
       "        vertical-align: middle;\n",
       "    }\n",
       "\n",
       "    .dataframe tbody tr th {\n",
       "        vertical-align: top;\n",
       "    }\n",
       "\n",
       "    .dataframe thead th {\n",
       "        text-align: right;\n",
       "    }\n",
       "</style>\n",
       "<table border=\"1\" class=\"dataframe\">\n",
       "  <thead>\n",
       "    <tr style=\"text-align: right;\">\n",
       "      <th></th>\n",
       "      <th>City</th>\n",
       "      <th>Lat</th>\n",
       "      <th>Lng</th>\n",
       "      <th>Max Temp</th>\n",
       "      <th>Humidity</th>\n",
       "      <th>Cloudiness</th>\n",
       "      <th>Wind Speed</th>\n",
       "      <th>Country</th>\n",
       "      <th>Date</th>\n",
       "    </tr>\n",
       "    <tr>\n",
       "      <th>City_ID</th>\n",
       "      <th></th>\n",
       "      <th></th>\n",
       "      <th></th>\n",
       "      <th></th>\n",
       "      <th></th>\n",
       "      <th></th>\n",
       "      <th></th>\n",
       "      <th></th>\n",
       "      <th></th>\n",
       "    </tr>\n",
       "  </thead>\n",
       "  <tbody>\n",
       "    <tr>\n",
       "      <th>0</th>\n",
       "      <td>Upernavik</td>\n",
       "      <td>72.7868</td>\n",
       "      <td>-56.1549</td>\n",
       "      <td>-11.40</td>\n",
       "      <td>93</td>\n",
       "      <td>100</td>\n",
       "      <td>6.13</td>\n",
       "      <td>GL</td>\n",
       "      <td>1675632507</td>\n",
       "    </tr>\n",
       "    <tr>\n",
       "      <th>1</th>\n",
       "      <td>San Jeronimo</td>\n",
       "      <td>-11.9472</td>\n",
       "      <td>-75.2829</td>\n",
       "      <td>58.44</td>\n",
       "      <td>63</td>\n",
       "      <td>81</td>\n",
       "      <td>7.36</td>\n",
       "      <td>PE</td>\n",
       "      <td>1675632789</td>\n",
       "    </tr>\n",
       "    <tr>\n",
       "      <th>2</th>\n",
       "      <td>Rio Gallegos</td>\n",
       "      <td>-51.6226</td>\n",
       "      <td>-69.2181</td>\n",
       "      <td>62.65</td>\n",
       "      <td>31</td>\n",
       "      <td>75</td>\n",
       "      <td>32.21</td>\n",
       "      <td>AR</td>\n",
       "      <td>1675632726</td>\n",
       "    </tr>\n",
       "    <tr>\n",
       "      <th>3</th>\n",
       "      <td>Klaksvik</td>\n",
       "      <td>62.2266</td>\n",
       "      <td>-6.5890</td>\n",
       "      <td>47.32</td>\n",
       "      <td>92</td>\n",
       "      <td>100</td>\n",
       "      <td>35.03</td>\n",
       "      <td>FO</td>\n",
       "      <td>1675632790</td>\n",
       "    </tr>\n",
       "    <tr>\n",
       "      <th>4</th>\n",
       "      <td>Butaritari</td>\n",
       "      <td>3.0707</td>\n",
       "      <td>172.7902</td>\n",
       "      <td>80.24</td>\n",
       "      <td>83</td>\n",
       "      <td>100</td>\n",
       "      <td>19.15</td>\n",
       "      <td>KI</td>\n",
       "      <td>1675632524</td>\n",
       "    </tr>\n",
       "  </tbody>\n",
       "</table>\n",
       "</div>"
      ],
      "text/plain": [
       "                 City      Lat       Lng  Max Temp  Humidity  Cloudiness  \\\n",
       "City_ID                                                                    \n",
       "0           Upernavik  72.7868  -56.1549    -11.40        93         100   \n",
       "1        San Jeronimo -11.9472  -75.2829     58.44        63          81   \n",
       "2        Rio Gallegos -51.6226  -69.2181     62.65        31          75   \n",
       "3            Klaksvik  62.2266   -6.5890     47.32        92         100   \n",
       "4          Butaritari   3.0707  172.7902     80.24        83         100   \n",
       "\n",
       "         Wind Speed Country        Date  \n",
       "City_ID                                  \n",
       "0              6.13      GL  1675632507  \n",
       "1              7.36      PE  1675632789  \n",
       "2             32.21      AR  1675632726  \n",
       "3             35.03      FO  1675632790  \n",
       "4             19.15      KI  1675632524  "
      ]
     },
     "execution_count": 15,
     "metadata": {},
     "output_type": "execute_result"
    }
   ],
   "source": [
    "# Read saved data\n",
    "city_data_df = pd.read_csv(\"output_data/cities.csv\", index_col=\"City_ID\")\n",
    "\n",
    "# Display sample data\n",
    "city_data_df.head()"
   ]
  },
  {
   "cell_type": "markdown",
   "metadata": {},
   "source": [
    "### Create the Scatter Plots Requested\n",
    "\n",
    "#### Latitude Vs. Temperature"
   ]
  },
  {
   "cell_type": "code",
   "execution_count": 18,
   "metadata": {
    "tags": []
   },
   "outputs": [
    {
     "data": {
      "image/png": "[encoded data removed]",
      "text/plain": [
       "<Figure size 432x288 with 1 Axes>"
      ]
     },
     "metadata": {
      "needs_background": "light"
     },
     "output_type": "display_data"
    }
   ],
   "source": [
    "# Build scatter plot for latitude vs. temperature\n",
    "plt.scatter(city_data_df['Lat'], city_data_df[\"Max Temp\"], marker='o')\n",
    "\n",
    "# Incorporate the other graph properties\n",
    "plt.title(\"City Max Latitude vs. Temperature\")\n",
    "plt.ylabel(\"Max Temperature(C)\")\n",
    "plt.xlabel(\"Latitude\")\n",
    "plt.grid(True)\n",
    "\n",
    "# Save the figure\n",
    "plt.savefig(\"output_data/Fig1.png\")\n",
    "\n",
    "# Show plot\n",
    "plt.show()"
   ]
  },
  {
   "cell_type": "markdown",
   "metadata": {},
   "source": [
    "#### Latitude Vs. Humidity"
   ]
  },
  {
   "cell_type": "code",
   "execution_count": 19,
   "metadata": {},
   "outputs": [
    {
     "data": {
      "image/png": "[encoded data removed]",
      "text/plain": [
       "<Figure size 432x288 with 1 Axes>"
      ]
     },
     "metadata": {
      "needs_background": "light"
     },
     "output_type": "display_data"
    }
   ],
   "source": [
    "# Build the scatter plots for latitude vs. humidity\n",
    "plt.scatter(city_data_df['Lat'], city_data_df[\"Humidity\"], marker='o')\n",
    "\n",
    "# Incorporate the other graph properties\n",
    "\n",
    "\n",
    "plt.title(\"City Latitude vs. Humidity\")\n",
    "plt.ylabel(\"Humidity(%)\")\n",
    "plt.xlabel(\"Latitude\")\n",
    "plt.grid(True)\n",
    "\n",
    "# Save the figure\n",
    "plt.savefig(\"output_data/Fig2.png\")\n",
    "\n",
    "# Show plot\n",
    "plt.show()"
   ]
  },
  {
   "cell_type": "markdown",
   "metadata": {},
   "source": [
    "#### Latitude Vs. Cloudiness"
   ]
  },
  {
   "cell_type": "code",
   "execution_count": 20,
   "metadata": {},
   "outputs": [
    {
     "data": {
      "image/png": "[encoded data removed]",
      "text/plain": [
       "<Figure size 432x288 with 1 Axes>"
      ]
     },
     "metadata": {
      "needs_background": "light"
     },
     "output_type": "display_data"
    }
   ],
   "source": [
    "# Build the scatter plots for latitude vs. cloudiness\n",
    "plt.scatter(city_data_df['Lat'], city_data_df[\"Cloudiness\"], marker='o')\n",
    "\n",
    "# Incorporate the other graph properties\n",
    "plt.title(\"City Latitude vs. Cloudiness\")\n",
    "plt.ylabel(\"Cloudiness(%)\")\n",
    "plt.xlabel(\"Latitude\")\n",
    "plt.grid(True)\n",
    "\n",
    "# Save the figure\n",
    "plt.savefig(\"output_data/Fig3.png\")\n",
    "\n",
    "# Show plot\n",
    "plt.show()"
   ]
  },
  {
   "cell_type": "markdown",
   "metadata": {},
   "source": [
    "#### Latitude vs. Wind Speed Plot"
   ]
  },
  {
   "cell_type": "code",
   "execution_count": 21,
   "metadata": {},
   "outputs": [
    {
     "data": {
      "image/png": "[encoded data removed]",
      "text/plain": [
       "<Figure size 432x288 with 1 Axes>"
      ]
     },
     "metadata": {
      "needs_background": "light"
     },
     "output_type": "display_data"
    }
   ],
   "source": [
    "# Build the scatter plots for latitude vs. cloudiness\n",
    "plt.scatter(city_data_df['Lat'], city_data_df[\"Wind Speed\"], marker='o')\n",
    "\n",
    "# Incorporate the other graph properties\n",
    "plt.title(\"City Latitude vs. Wind Speed\")\n",
    "plt.ylabel(\"Wind Speed(m/s)\")\n",
    "plt.xlabel(\"Latitude\")\n",
    "plt.grid(True)\n",
    "\n",
    "\n",
    "# Save the figure\n",
    "plt.savefig(\"output_data/Fig4.png\")\n",
    "\n",
    "# Show plot\n",
    "plt.show()"
   ]
  },
  {
   "cell_type": "markdown",
   "metadata": {},
   "source": [
    "---\n",
    "\n",
    "## Requirement 2: Compute Linear Regression for Each Relationship\n"
   ]
  },
  {
   "cell_type": "code",
   "execution_count": 23,
   "metadata": {},
   "outputs": [
    {
     "ename": "NameError",
     "evalue": "name 'stats' is not defined",
     "output_type": "error",
     "traceback": [
      "\u001b[0;31m---------------------------------------------------------------------------\u001b[0m",
      "\u001b[0;31mNameError\u001b[0m                                 Traceback (most recent call last)",
      "\u001b[0;32m/var/folders/yy/0dc43z0j4_x1wkm1104h5l800000gn/T/ipykernel_2075/1732222704.py\u001b[0m in \u001b[0;36m<module>\u001b[0;34m\u001b[0m\n\u001b[1;32m      1\u001b[0m \u001b[0;31m# Define a function to create Linear Regression plots\u001b[0m\u001b[0;34m\u001b[0m\u001b[0;34m\u001b[0m\u001b[0;34m\u001b[0m\u001b[0m\n\u001b[0;32m----> 2\u001b[0;31m \u001b[0;34m(\u001b[0m\u001b[0mslope\u001b[0m\u001b[0;34m,\u001b[0m\u001b[0mintercept\u001b[0m\u001b[0;34m,\u001b[0m\u001b[0mrvalue\u001b[0m\u001b[0;34m,\u001b[0m\u001b[0mpvalue\u001b[0m\u001b[0;34m,\u001b[0m\u001b[0mstderr\u001b[0m\u001b[0;34m)\u001b[0m\u001b[0;34m=\u001b[0m\u001b[0mstats\u001b[0m\u001b[0;34m.\u001b[0m\u001b[0mlineregress\u001b[0m\u001b[0;34m(\u001b[0m\u001b[0mcity_data_df\u001b[0m\u001b[0;34m[\u001b[0m\u001b[0;34m'Lat'\u001b[0m\u001b[0;34m]\u001b[0m\u001b[0;34m,\u001b[0m \u001b[0mcity_data_df\u001b[0m\u001b[0;34m[\u001b[0m\u001b[0;34m\"Max Temp\"\u001b[0m\u001b[0;34m]\u001b[0m\u001b[0;34m)\u001b[0m\u001b[0;34m\u001b[0m\u001b[0;34m\u001b[0m\u001b[0m\n\u001b[0m\u001b[1;32m      3\u001b[0m \u001b[0;34m\u001b[0m\u001b[0m\n\u001b[1;32m      4\u001b[0m \u001b[0my_pred\u001b[0m \u001b[0;34m=\u001b[0m \u001b[0mcity_data_df\u001b[0m\u001b[0;34m[\u001b[0m\u001b[0;34m'Lat'\u001b[0m\u001b[0;34m]\u001b[0m\u001b[0;34m*\u001b[0m\u001b[0mslope\u001b[0m \u001b[0;34m+\u001b[0m \u001b[0mintercept\u001b[0m\u001b[0;34m\u001b[0m\u001b[0;34m\u001b[0m\u001b[0m\n\u001b[1;32m      5\u001b[0m \u001b[0mline_equation\u001b[0m \u001b[0;34m=\u001b[0m \u001b[0;34mf\"y = {slope}x +{intercept}\"\u001b[0m\u001b[0;34m\u001b[0m\u001b[0;34m\u001b[0m\u001b[0m\n",
      "\u001b[0;31mNameError\u001b[0m: name 'stats' is not defined"
     ]
    }
   ],
   "source": [
    "# Define a function to create Linear Regression plots\n",
    "(slope,intercept,rvalue,pvalue,stderr)=stats.lineregress(city_data_df['Lat'], city_data_df[\"Max Temp\"])\n",
    "\n",
    "y_pred = city_data_df['Lat']*slope + intercept\n",
    "line_equation = f\"y = {slope}x +{intercept}\""
   ]
  },
  {
   "cell_type": "code",
   "execution_count": 53,
   "metadata": {},
   "outputs": [
    {
     "data": {
      "text/html": [
       "<div>\n",
       "<style scoped>\n",
       "    .dataframe tbody tr th:only-of-type {\n",
       "        vertical-align: middle;\n",
       "    }\n",
       "\n",
       "    .dataframe tbody tr th {\n",
       "        vertical-align: top;\n",
       "    }\n",
       "\n",
       "    .dataframe thead th {\n",
       "        text-align: right;\n",
       "    }\n",
       "</style>\n",
       "<table border=\"1\" class=\"dataframe\">\n",
       "  <thead>\n",
       "    <tr style=\"text-align: right;\">\n",
       "      <th></th>\n",
       "      <th>City</th>\n",
       "      <th>Lat</th>\n",
       "      <th>Lng</th>\n",
       "      <th>Max Temp</th>\n",
       "      <th>Humidity</th>\n",
       "      <th>Cloudiness</th>\n",
       "      <th>Wind Speed</th>\n",
       "      <th>Country</th>\n",
       "      <th>Date</th>\n",
       "    </tr>\n",
       "    <tr>\n",
       "      <th>City_ID</th>\n",
       "      <th></th>\n",
       "      <th></th>\n",
       "      <th></th>\n",
       "      <th></th>\n",
       "      <th></th>\n",
       "      <th></th>\n",
       "      <th></th>\n",
       "      <th></th>\n",
       "      <th></th>\n",
       "    </tr>\n",
       "  </thead>\n",
       "  <tbody>\n",
       "    <tr>\n",
       "      <th>0</th>\n",
       "      <td>Upernavik</td>\n",
       "      <td>72.7868</td>\n",
       "      <td>-56.1549</td>\n",
       "      <td>-11.40</td>\n",
       "      <td>93</td>\n",
       "      <td>100</td>\n",
       "      <td>6.13</td>\n",
       "      <td>GL</td>\n",
       "      <td>1675632507</td>\n",
       "    </tr>\n",
       "    <tr>\n",
       "      <th>3</th>\n",
       "      <td>Klaksvik</td>\n",
       "      <td>62.2266</td>\n",
       "      <td>-6.5890</td>\n",
       "      <td>47.32</td>\n",
       "      <td>92</td>\n",
       "      <td>100</td>\n",
       "      <td>35.03</td>\n",
       "      <td>FO</td>\n",
       "      <td>1675632790</td>\n",
       "    </tr>\n",
       "    <tr>\n",
       "      <th>4</th>\n",
       "      <td>Butaritari</td>\n",
       "      <td>3.0707</td>\n",
       "      <td>172.7902</td>\n",
       "      <td>80.24</td>\n",
       "      <td>83</td>\n",
       "      <td>100</td>\n",
       "      <td>19.15</td>\n",
       "      <td>KI</td>\n",
       "      <td>1675632524</td>\n",
       "    </tr>\n",
       "    <tr>\n",
       "      <th>5</th>\n",
       "      <td>Thompson</td>\n",
       "      <td>55.7435</td>\n",
       "      <td>-97.8558</td>\n",
       "      <td>5.16</td>\n",
       "      <td>85</td>\n",
       "      <td>100</td>\n",
       "      <td>5.75</td>\n",
       "      <td>CA</td>\n",
       "      <td>1675632560</td>\n",
       "    </tr>\n",
       "    <tr>\n",
       "      <th>6</th>\n",
       "      <td>Camacha</td>\n",
       "      <td>33.0833</td>\n",
       "      <td>-16.3333</td>\n",
       "      <td>58.42</td>\n",
       "      <td>67</td>\n",
       "      <td>40</td>\n",
       "      <td>13.80</td>\n",
       "      <td>PT</td>\n",
       "      <td>1675632793</td>\n",
       "    </tr>\n",
       "  </tbody>\n",
       "</table>\n",
       "</div>"
      ],
      "text/plain": [
       "               City      Lat       Lng  Max Temp  Humidity  Cloudiness  \\\n",
       "City_ID                                                                  \n",
       "0         Upernavik  72.7868  -56.1549    -11.40        93         100   \n",
       "3          Klaksvik  62.2266   -6.5890     47.32        92         100   \n",
       "4        Butaritari   3.0707  172.7902     80.24        83         100   \n",
       "5          Thompson  55.7435  -97.8558      5.16        85         100   \n",
       "6           Camacha  33.0833  -16.3333     58.42        67          40   \n",
       "\n",
       "         Wind Speed Country        Date  \n",
       "City_ID                                  \n",
       "0              6.13      GL  1675632507  \n",
       "3             35.03      FO  1675632790  \n",
       "4             19.15      KI  1675632524  \n",
       "5              5.75      CA  1675632560  \n",
       "6             13.80      PT  1675632793  "
      ]
     },
     "execution_count": 53,
     "metadata": {},
     "output_type": "execute_result"
    }
   ],
   "source": [
    "# Create a DataFrame with the Northern Hemisphere data (Latitude >= 0)\n",
    "northern_hemi_df = city_data_df[city_data_df[\"Lat\"] >= 0]\n",
    "\n",
    "# Display sample data\n",
    "northern_hemi_df.head()"
   ]
  },
  {
   "cell_type": "code",
   "execution_count": 28,
   "metadata": {},
   "outputs": [
    {
     "data": {
      "text/html": [
       "<div>\n",
       "<style scoped>\n",
       "    .dataframe tbody tr th:only-of-type {\n",
       "        vertical-align: middle;\n",
       "    }\n",
       "\n",
       "    .dataframe tbody tr th {\n",
       "        vertical-align: top;\n",
       "    }\n",
       "\n",
       "    .dataframe thead th {\n",
       "        text-align: right;\n",
       "    }\n",
       "</style>\n",
       "<table border=\"1\" class=\"dataframe\">\n",
       "  <thead>\n",
       "    <tr style=\"text-align: right;\">\n",
       "      <th></th>\n",
       "      <th>City</th>\n",
       "      <th>Lat</th>\n",
       "      <th>Lng</th>\n",
       "      <th>Max Temp</th>\n",
       "      <th>Humidity</th>\n",
       "      <th>Cloudiness</th>\n",
       "      <th>Wind Speed</th>\n",
       "      <th>Country</th>\n",
       "      <th>Date</th>\n",
       "    </tr>\n",
       "    <tr>\n",
       "      <th>City_ID</th>\n",
       "      <th></th>\n",
       "      <th></th>\n",
       "      <th></th>\n",
       "      <th></th>\n",
       "      <th></th>\n",
       "      <th></th>\n",
       "      <th></th>\n",
       "      <th></th>\n",
       "      <th></th>\n",
       "    </tr>\n",
       "  </thead>\n",
       "  <tbody>\n",
       "    <tr>\n",
       "      <th>1</th>\n",
       "      <td>San Jeronimo</td>\n",
       "      <td>-11.9472</td>\n",
       "      <td>-75.2829</td>\n",
       "      <td>58.44</td>\n",
       "      <td>63</td>\n",
       "      <td>81</td>\n",
       "      <td>7.36</td>\n",
       "      <td>PE</td>\n",
       "      <td>1675632789</td>\n",
       "    </tr>\n",
       "    <tr>\n",
       "      <th>2</th>\n",
       "      <td>Rio Gallegos</td>\n",
       "      <td>-51.6226</td>\n",
       "      <td>-69.2181</td>\n",
       "      <td>62.65</td>\n",
       "      <td>31</td>\n",
       "      <td>75</td>\n",
       "      <td>32.21</td>\n",
       "      <td>AR</td>\n",
       "      <td>1675632726</td>\n",
       "    </tr>\n",
       "    <tr>\n",
       "      <th>7</th>\n",
       "      <td>Rikitea</td>\n",
       "      <td>-23.1203</td>\n",
       "      <td>-134.9692</td>\n",
       "      <td>79.05</td>\n",
       "      <td>74</td>\n",
       "      <td>4</td>\n",
       "      <td>15.28</td>\n",
       "      <td>PF</td>\n",
       "      <td>1675632794</td>\n",
       "    </tr>\n",
       "    <tr>\n",
       "      <th>11</th>\n",
       "      <td>Bluff</td>\n",
       "      <td>-46.6000</td>\n",
       "      <td>168.3333</td>\n",
       "      <td>58.91</td>\n",
       "      <td>85</td>\n",
       "      <td>57</td>\n",
       "      <td>24.67</td>\n",
       "      <td>NZ</td>\n",
       "      <td>1675632796</td>\n",
       "    </tr>\n",
       "    <tr>\n",
       "      <th>12</th>\n",
       "      <td>Lorengau</td>\n",
       "      <td>-2.0226</td>\n",
       "      <td>147.2712</td>\n",
       "      <td>81.21</td>\n",
       "      <td>81</td>\n",
       "      <td>100</td>\n",
       "      <td>3.78</td>\n",
       "      <td>PG</td>\n",
       "      <td>1675632798</td>\n",
       "    </tr>\n",
       "  </tbody>\n",
       "</table>\n",
       "</div>"
      ],
      "text/plain": [
       "                 City      Lat       Lng  Max Temp  Humidity  Cloudiness  \\\n",
       "City_ID                                                                    \n",
       "1        San Jeronimo -11.9472  -75.2829     58.44        63          81   \n",
       "2        Rio Gallegos -51.6226  -69.2181     62.65        31          75   \n",
       "7             Rikitea -23.1203 -134.9692     79.05        74           4   \n",
       "11              Bluff -46.6000  168.3333     58.91        85          57   \n",
       "12           Lorengau  -2.0226  147.2712     81.21        81         100   \n",
       "\n",
       "         Wind Speed Country        Date  \n",
       "City_ID                                  \n",
       "1              7.36      PE  1675632789  \n",
       "2             32.21      AR  1675632726  \n",
       "7             15.28      PF  1675632794  \n",
       "11            24.67      NZ  1675632796  \n",
       "12             3.78      PG  1675632798  "
      ]
     },
     "execution_count": 28,
     "metadata": {},
     "output_type": "execute_result"
    }
   ],
   "source": [
    "# Create a DataFrame with the Southern Hemisphere data (Latitude < 0)\n",
    "southern_hemi_df = city_data_df[city_data_df[\"Lat\"] < 0]\n",
    "\n",
    "# Display sample data\n",
    "southern_hemi_df.head()"
   ]
  },
  {
   "cell_type": "markdown",
   "metadata": {},
   "source": [
    "###  Temperature vs. Latitude Linear Regression Plot"
   ]
  },
  {
   "cell_type": "code",
   "execution_count": 54,
   "metadata": {},
   "outputs": [
    {
     "data": {
      "text/plain": [
       "'y = -1.42x +94.58'"
      ]
     },
     "execution_count": 54,
     "metadata": {},
     "output_type": "execute_result"
    }
   ],
   "source": [
    "# Linear regression on Northern Hemisphere\n",
    "(slope,intercept,rvalue,pvalue,stderr)=stats.linregress(northern_hemi_df['Lat'], northern_hemi_df[\"Max Temp\"])\n",
    "\n",
    "y_pred = northern_hemi_df['Lat']*slope + intercept\n",
    "line_equation = f\"y = {round(slope,2)}x +{round(intercept,2)}\"\n",
    "line_equation"
   ]
  },
  {
   "cell_type": "code",
   "execution_count": 55,
   "metadata": {},
   "outputs": [
    {
     "name": "stdout",
     "output_type": "stream",
     "text": [
      "R-squared:0.6972949613104626\n"
     ]
    },
    {
     "data": {
      "image/png": "[encoded data removed]",
      "text/plain": [
       "<Figure size 432x288 with 1 Axes>"
      ]
     },
     "metadata": {
      "needs_background": "light"
     },
     "output_type": "display_data"
    }
   ],
   "source": [
    "plt.scatter(northern_hemi_df['Lat'], northern_hemi_df[\"Max Temp\"], marker='o')\n",
    "plt.plot(northern_hemi_df['Lat'], y_pred, color = 'r')\n",
    "plt.ylabel(\"Max Tamp\")\n",
    "plt.xlabel(\"Latitude\")\n",
    "\n",
    "plt.annotate(line_equation,xy=(5,5), fontsize=13, color='r')\n",
    "\n",
    "#print r value\n",
    "print(f\"R-squared:{rvalue**2}\")\n",
    "\n",
    "plt.show()"
   ]
  },
  {
   "cell_type": "code",
   "execution_count": 78,
   "metadata": {},
   "outputs": [
    {
     "data": {
      "text/plain": [
       "'y = 0.22x +79.48'"
      ]
     },
     "execution_count": 78,
     "metadata": {},
     "output_type": "execute_result"
    }
   ],
   "source": [
    "# Linear regression on Southern Hemisphere\n",
    "(slope,intercept,rvalue,pvalue,stderr)=stats.linregress(southern_hemi_df['Lat'], southern_hemi_df[\"Max Temp\"])\n",
    "\n",
    "y_pred = southern_hemi_df['Lat']*slope + intercept\n",
    "line_equation = f\"y = {round(slope,2)}x +{round(intercept,2)}\"\n",
    "line_equation\n"
   ]
  },
  {
   "cell_type": "code",
   "execution_count": 79,
   "metadata": {},
   "outputs": [
    {
     "name": "stdout",
     "output_type": "stream",
     "text": [
      "R-squared:0.12648400123236345\n"
     ]
    },
    {
     "data": {
      "image/png": "[encoded data removed]",
      "text/plain": [
       "<Figure size 432x288 with 1 Axes>"
      ]
     },
     "metadata": {
      "needs_background": "light"
     },
     "output_type": "display_data"
    }
   ],
   "source": [
    "plt.scatter(southern_hemi_df['Lat'], southern_hemi_df[\"Max Temp\"], marker='o')\n",
    "plt.plot(southern_hemi_df['Lat'], y_pred, color = 'r')\n",
    "plt.ylabel(\"Max Tamp\")\n",
    "plt.xlabel(\"Latitude\")\n",
    "\n",
    "print(f\"R-squared:{rvalue**2}\")\n",
    "\n",
    "plt.annotate(line_equation,(10,5), fontsize=20, color='r')\n",
    "\n",
    "plt.show()"
   ]
  },
  {
   "cell_type": "markdown",
   "metadata": {},
   "source": [
    "**Discussion about the linear relationship:** Cities in the Northern Hemisphere that have a higher latitude, are lower in temp. Cities in the Souther Hemisphere that have higher latitude, are higher temp.Positive linear relationship"
   ]
  },
  {
   "cell_type": "markdown",
   "metadata": {},
   "source": [
    "### Humidity vs. Latitude Linear Regression Plot"
   ]
  },
  {
   "cell_type": "code",
   "execution_count": 73,
   "metadata": {},
   "outputs": [
    {
     "name": "stdout",
     "output_type": "stream",
     "text": [
      "R-squared:0.18359309298302084\n"
     ]
    },
    {
     "data": {
      "image/png": "[encoded data removed]",
      "text/plain": [
       "<Figure size 432x288 with 1 Axes>"
      ]
     },
     "metadata": {
      "needs_background": "light"
     },
     "output_type": "display_data"
    }
   ],
   "source": [
    "# Northern Hemisphere\n",
    "(slope,intercept,rvalue,pvalue,stderr)=stats.linregress(northern_hemi_df['Lat'], northern_hemi_df[\"Humidity\"])\n",
    "\n",
    "y_pred = northern_hemi_df['Lat']*slope + intercept\n",
    "line_equation = f\"y = {round(slope,2)}x +{round(intercept,2)}\"\n",
    "line_equation\n",
    "\n",
    "plt.scatter(northern_hemi_df['Lat'], northern_hemi_df[\"Humidity\"], marker='o')\n",
    "plt.plot(northern_hemi_df['Lat'], y_pred, color = 'r')\n",
    "plt.ylabel(\"Humidity\")\n",
    "plt.xlabel(\"Latitude\")\n",
    "\n",
    "plt.annotate(line_equation,xy=(5,5), fontsize=13, color='r')\n",
    "\n",
    "#print r value\n",
    "print(f\"R-squared:{rvalue**2}\")\n",
    "\n",
    "plt.show()"
   ]
  },
  {
   "cell_type": "code",
   "execution_count": 75,
   "metadata": {},
   "outputs": [
    {
     "name": "stdout",
     "output_type": "stream",
     "text": [
      "R-squared:0.1577556822004146\n"
     ]
    },
    {
     "data": {
      "image/png": "[encoded data removed]",
      "text/plain": [
       "<Figure size 432x288 with 1 Axes>"
      ]
     },
     "metadata": {
      "needs_background": "light"
     },
     "output_type": "display_data"
    }
   ],
   "source": [
    "# Southern Hemisphere\n",
    "(slope,intercept,rvalue,pvalue,stderr)=stats.linregress(southern_hemi_df['Lat'], southern_hemi_df[\"Humidity\"])\n",
    "\n",
    "y_pred = southern_hemi_df['Lat']*slope + intercept\n",
    "line_equation = f\"y = {round(slope,2)}x +{round(intercept,2)}\"\n",
    "line_equation\n",
    "\n",
    "plt.scatter(southern_hemi_df['Lat'], southern_hemi_df[\"Humidity\"], marker='o')\n",
    "plt.plot(southern_hemi_df['Lat'], y_pred, color = 'r')\n",
    "plt.ylabel(\"Humidity\")\n",
    "plt.xlabel(\"Latitude\")\n",
    "\n",
    "plt.annotate(line_equation,xy=(5,5), fontsize=13, color='r')\n",
    "\n",
    "#print r value\n",
    "print(f\"R-squared:{rvalue**2}\")\n",
    "\n",
    "plt.show()"
   ]
  },
  {
   "cell_type": "markdown",
   "metadata": {},
   "source": [
    "**Discussion about the linear relationship:** as lat increases, humidity increases"
   ]
  },
  {
   "cell_type": "markdown",
   "metadata": {},
   "source": [
    "### Cloudiness vs. Latitude Linear Regression Plot"
   ]
  },
  {
   "cell_type": "code",
   "execution_count": 76,
   "metadata": {},
   "outputs": [
    {
     "name": "stdout",
     "output_type": "stream",
     "text": [
      "R-squared:0.09157133338218104\n"
     ]
    },
    {
     "data": {
      "image/png": "[encoded data removed]",
      "text/plain": [
       "<Figure size 432x288 with 1 Axes>"
      ]
     },
     "metadata": {
      "needs_background": "light"
     },
     "output_type": "display_data"
    }
   ],
   "source": [
    "# Northern Hemisphere\n",
    "(slope,intercept,rvalue,pvalue,stderr)=stats.linregress(northern_hemi_df['Lat'], northern_hemi_df[\"Cloudiness\"])\n",
    "\n",
    "y_pred = northern_hemi_df['Lat']*slope + intercept\n",
    "line_equation = f\"y = {round(slope,2)}x +{round(intercept,2)}\"\n",
    "line_equation\n",
    "\n",
    "plt.scatter(northern_hemi_df['Lat'], northern_hemi_df[\"Cloudiness\"], marker='o')\n",
    "plt.plot(northern_hemi_df['Lat'], y_pred, color = 'r')\n",
    "plt.ylabel(\"Cloudiness\")\n",
    "plt.xlabel(\"Latitude\")\n",
    "\n",
    "plt.annotate(line_equation,xy=(5,5), fontsize=13, color='r')\n",
    "\n",
    "#print r value\n",
    "print(f\"R-squared:{rvalue**2}\")\n",
    "\n",
    "plt.show()"
   ]
  },
  {
   "cell_type": "code",
   "execution_count": 77,
   "metadata": {},
   "outputs": [
    {
     "name": "stdout",
     "output_type": "stream",
     "text": [
      "R-squared:0.13053174139252247\n"
     ]
    },
    {
     "data": {
      "image/png": "[encoded data removed]",
      "text/plain": [
       "<Figure size 432x288 with 1 Axes>"
      ]
     },
     "metadata": {
      "needs_background": "light"
     },
     "output_type": "display_data"
    }
   ],
   "source": [
    "# Southern Hemisphere\n",
    "(slope,intercept,rvalue,pvalue,stderr)=stats.linregress(southern_hemi_df['Lat'], southern_hemi_df[\"Cloudiness\"])\n",
    "\n",
    "y_pred = southern_hemi_df['Lat']*slope + intercept\n",
    "line_equation = f\"y = {round(slope,2)}x +{round(intercept,2)}\"\n",
    "line_equation\n",
    "\n",
    "plt.scatter(southern_hemi_df['Lat'], southern_hemi_df[\"Cloudiness\"], marker='o')\n",
    "plt.plot(southern_hemi_df['Lat'], y_pred, color = 'r')\n",
    "plt.ylabel(\"Cloudiness\")\n",
    "plt.xlabel(\"Latitude\")\n",
    "\n",
    "plt.annotate(line_equation,xy=(5,5), fontsize=13, color='r')\n",
    "\n",
    "#print r value\n",
    "print(f\"R-squared:{rvalue**2}\")\n",
    "\n",
    "plt.show()"
   ]
  },
  {
   "cell_type": "markdown",
   "metadata": {},
   "source": [
    "**Discussion about the linear relationship:** weak linear relationship on lat and cloudiness."
   ]
  },
  {
   "cell_type": "markdown",
   "metadata": {},
   "source": [
    "### Wind Speed vs. Latitude Linear Regression Plot"
   ]
  },
  {
   "cell_type": "code",
   "execution_count": 80,
   "metadata": {},
   "outputs": [
    {
     "name": "stdout",
     "output_type": "stream",
     "text": [
      "R-squared:0.0075925079550332305\n"
     ]
    },
    {
     "data": {
      "image/png": "[encoded data removed]",
      "text/plain": [
       "<Figure size 432x288 with 1 Axes>"
      ]
     },
     "metadata": {
      "needs_background": "light"
     },
     "output_type": "display_data"
    }
   ],
   "source": [
    "# Northern Hemisphere\n",
    "(slope,intercept,rvalue,pvalue,stderr)=stats.linregress(northern_hemi_df['Lat'], northern_hemi_df[\"Wind Speed\"])\n",
    "\n",
    "y_pred = northern_hemi_df['Lat']*slope + intercept\n",
    "line_equation = f\"y = {round(slope,2)}x +{round(intercept,2)}\"\n",
    "line_equation\n",
    "\n",
    "plt.scatter(northern_hemi_df['Lat'], northern_hemi_df[\"Wind Speed\"], marker='o')\n",
    "plt.plot(northern_hemi_df['Lat'], y_pred, color = 'r')\n",
    "plt.ylabel(\"Wind Speed\")\n",
    "plt.xlabel(\"Latitude\")\n",
    "\n",
    "plt.annotate(line_equation,xy=(5,5), fontsize=13, color='r')\n",
    "\n",
    "#print r value\n",
    "print(f\"R-squared:{rvalue**2}\")\n",
    "\n",
    "plt.show()"
   ]
  },
  {
   "cell_type": "code",
   "execution_count": 82,
   "metadata": {},
   "outputs": [
    {
     "name": "stdout",
     "output_type": "stream",
     "text": [
      "R-squared:0.2028131303718091\n"
     ]
    },
    {
     "data": {
      "image/png": "[encoded data removed]",
      "text/plain": [
       "<Figure size 432x288 with 1 Axes>"
      ]
     },
     "metadata": {
      "needs_background": "light"
     },
     "output_type": "display_data"
    }
   ],
   "source": [
    "# Southern Hemisphere\n",
    "(slope,intercept,rvalue,pvalue,stderr)=stats.linregress(southern_hemi_df['Lat'], southern_hemi_df[\"Wind Speed\"])\n",
    "\n",
    "y_pred = southern_hemi_df['Lat']*slope + intercept\n",
    "line_equation = f\"y = {round(slope,2)}x +{round(intercept,2)}\"\n",
    "line_equation\n",
    "\n",
    "plt.scatter(southern_hemi_df['Lat'], southern_hemi_df[\"Wind Speed\"], marker='o')\n",
    "plt.plot(southern_hemi_df['Lat'], y_pred, color = 'r')\n",
    "plt.ylabel(\"Wind Speed\")\n",
    "plt.xlabel(\"Latitude\")\n",
    "\n",
    "plt.annotate(line_equation,xy=(5,5), fontsize=13, color='r')\n",
    "\n",
    "#print r value\n",
    "print(f\"R-squared:{rvalue**2}\")\n",
    "\n",
    "plt.show()"
   ]
  },
  {
   "cell_type": "markdown",
   "metadata": {},
   "source": [
    "**Discussion about the linear relationship:** string position linear relationship in the northern data. Strong negative linear relationship in the southern data.\n"
   ]
  },
  {
   "cell_type": "code",
   "execution_count": null,
   "metadata": {},
   "outputs": [],
   "source": []
  }
 ],
 "metadata": {
  "anaconda-cloud": {},
  "kernel_info": {
   "name": "python3"
  },
  "kernelspec": {
   "display_name": "Python 3 (ipykernel)",
   "language": "python",
   "name": "python3"
  },
  "language_info": {
   "codemirror_mode": {
    "name": "ipython",
    "version": 3
   },
   "file_extension": ".py",
   "mimetype": "text/x-python",
   "name": "python",
   "nbconvert_exporter": "python",
   "pygments_lexer": "ipython3",
   "version": "3.7.7"
  },
  "latex_envs": {
   "LaTeX_envs_menu_present": true,
   "autoclose": false,
   "autocomplete": true,
   "bibliofile": "biblio.bib",
   "cite_by": "apalike",
   "current_citInitial": 1,
   "eqLabelWithNumbers": true,
   "eqNumInitial": 1,
   "hotkeys": {
    "equation": "Ctrl-E",
    "itemize": "Ctrl-I"
   },
   "labels_anchors": false,
   "latex_user_defs": false,
   "report_style_numbering": false,
   "user_envs_cfg": false
  },
  "nteract": {
   "version": "0.12.3"
  }
 },
 "nbformat": 4,
 "nbformat_minor": 4
}
